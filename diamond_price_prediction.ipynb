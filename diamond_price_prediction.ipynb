{
 "cells": [
  {
   "cell_type": "code",
   "execution_count": 1,
   "id": "10a9cada-69e8-4ed8-b82b-2fba2833137a",
   "metadata": {},
   "outputs": [],
   "source": [
    "import pandas as pd\n",
    "import seaborn as sns"
   ]
  },
  {
   "cell_type": "code",
   "execution_count": 2,
   "id": "6db80ed1-f229-49f3-a8d9-fecc6c776a88",
   "metadata": {},
   "outputs": [
    {
     "data": {
      "text/plain": [
       "<bound method NDFrame.head of       carat        cut color clarity  depth  table  price     x     y     z\n",
       "0      1.10      Ideal     H     SI2   62.0   55.0   4733  6.61  6.65  4.11\n",
       "1      1.29      Ideal     H     SI1   62.6   56.0   6424  6.96  6.93  4.35\n",
       "2      1.20    Premium     I     SI1   61.1   58.0   5510  6.88  6.80  4.18\n",
       "3      1.50      Ideal     F     SI1   60.9   56.0   8770  7.43  7.36  4.50\n",
       "4      0.90  Very Good     F     VS2   61.7   57.0   4493  6.17  6.21  3.82\n",
       "...     ...        ...   ...     ...    ...    ...    ...   ...   ...   ...\n",
       "4995   0.38      Ideal     H    VVS2   62.3   53.3    832  4.65  4.69  2.91\n",
       "4996   0.33    Premium     G    VVS2   61.3   59.0    927  4.45  4.42  2.72\n",
       "4997   1.25      Ideal     J    VVS2   62.1   56.0   5980  6.81  6.84  4.24\n",
       "4998   0.31    Premium     F     VS2   62.9   58.0    802  4.31  4.27  2.70\n",
       "4999   0.30      Ideal     H    VVS1   61.2   57.0    655  4.30  4.39  2.66\n",
       "\n",
       "[5000 rows x 10 columns]>"
      ]
     },
     "execution_count": 2,
     "metadata": {},
     "output_type": "execute_result"
    }
   ],
   "source": [
    "df = pd.read_csv('datasets/diamonds/diamonds.csv')\n",
    "df.head"
   ]
  }
 ],
 "metadata": {
  "kernelspec": {
   "display_name": "Python 3 (ipykernel)",
   "language": "python",
   "name": "python3"
  },
  "language_info": {
   "codemirror_mode": {
    "name": "ipython",
    "version": 3
   },
   "file_extension": ".py",
   "mimetype": "text/x-python",
   "name": "python",
   "nbconvert_exporter": "python",
   "pygments_lexer": "ipython3",
   "version": "3.11.7"
  }
 },
 "nbformat": 4,
 "nbformat_minor": 5
}
